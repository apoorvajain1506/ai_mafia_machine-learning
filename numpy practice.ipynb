{
 "cells": [
  {
   "cell_type": "code",
   "execution_count": 1,
   "metadata": {},
   "outputs": [
    {
     "name": "stdout",
     "output_type": "stream",
     "text": [
      "Requirement already satisfied: numpy in c:\\users\\hp\\anaconda3\\lib\\site-packages (1.19.2)\n"
     ]
    }
   ],
   "source": [
    "!pip3 install numpy"
   ]
  },
  {
   "cell_type": "markdown",
   "metadata": {},
   "source": [
    "Working with numpy functions"
   ]
  },
  {
   "cell_type": "code",
   "execution_count": 10,
   "metadata": {},
   "outputs": [],
   "source": [
    "import numpy as np"
   ]
  },
  {
   "cell_type": "code",
   "execution_count": 3,
   "metadata": {},
   "outputs": [],
   "source": [
    "arr=np.array([[1,2,3],[4,5,6]])     #in numpy arrays are n-dimensionals"
   ]
  },
  {
   "cell_type": "code",
   "execution_count": 4,
   "metadata": {},
   "outputs": [
    {
     "data": {
      "text/plain": [
       "numpy.ndarray"
      ]
     },
     "execution_count": 4,
     "metadata": {},
     "output_type": "execute_result"
    }
   ],
   "source": [
    "type(arr)       #this is numpy array"
   ]
  },
  {
   "cell_type": "code",
   "execution_count": 5,
   "metadata": {},
   "outputs": [
    {
     "data": {
      "text/plain": [
       "2"
      ]
     },
     "execution_count": 5,
     "metadata": {},
     "output_type": "execute_result"
    }
   ],
   "source": [
    "arr.ndim"
   ]
  },
  {
   "cell_type": "code",
   "execution_count": 6,
   "metadata": {},
   "outputs": [
    {
     "data": {
      "text/plain": [
       "(2, 3)"
      ]
     },
     "execution_count": 6,
     "metadata": {},
     "output_type": "execute_result"
    }
   ],
   "source": [
    "arr.shape           #(no of rows,no of columns)"
   ]
  },
  {
   "cell_type": "code",
   "execution_count": 7,
   "metadata": {},
   "outputs": [],
   "source": [
    "a1=np.array([1,2,3])"
   ]
  },
  {
   "cell_type": "code",
   "execution_count": 10,
   "metadata": {},
   "outputs": [
    {
     "data": {
      "text/plain": [
       "1"
      ]
     },
     "execution_count": 10,
     "metadata": {},
     "output_type": "execute_result"
    }
   ],
   "source": [
    "a1.ndim"
   ]
  },
  {
   "cell_type": "code",
   "execution_count": 11,
   "metadata": {},
   "outputs": [
    {
     "data": {
      "text/plain": [
       "(3,)"
      ]
     },
     "execution_count": 11,
     "metadata": {},
     "output_type": "execute_result"
    }
   ],
   "source": [
    "a1.shape   #(3,)  1-d array "
   ]
  },
  {
   "cell_type": "code",
   "execution_count": 13,
   "metadata": {},
   "outputs": [
    {
     "data": {
      "text/plain": [
       "6"
      ]
     },
     "execution_count": 13,
     "metadata": {},
     "output_type": "execute_result"
    }
   ],
   "source": [
    "arr.size       #no of elements"
   ]
  },
  {
   "cell_type": "code",
   "execution_count": 14,
   "metadata": {},
   "outputs": [
    {
     "data": {
      "text/plain": [
       "3"
      ]
     },
     "execution_count": 14,
     "metadata": {},
     "output_type": "execute_result"
    }
   ],
   "source": [
    "a1.size          "
   ]
  },
  {
   "cell_type": "code",
   "execution_count": 15,
   "metadata": {},
   "outputs": [
    {
     "data": {
      "text/plain": [
       "dtype('int32')"
      ]
     },
     "execution_count": 15,
     "metadata": {},
     "output_type": "execute_result"
    }
   ],
   "source": [
    "arr.dtype"
   ]
  },
  {
   "cell_type": "code",
   "execution_count": 16,
   "metadata": {},
   "outputs": [],
   "source": [
    "a2=np.array([\"hello\",1,\"st\",\"time\"])"
   ]
  },
  {
   "cell_type": "code",
   "execution_count": 17,
   "metadata": {},
   "outputs": [
    {
     "data": {
      "text/plain": [
       "dtype('<U5')"
      ]
     },
     "execution_count": 17,
     "metadata": {},
     "output_type": "execute_result"
    }
   ],
   "source": [
    "a2.dtype"
   ]
  },
  {
   "cell_type": "markdown",
   "metadata": {},
   "source": [
    "# 4ways to create numpy array"
   ]
  },
  {
   "cell_type": "code",
   "execution_count": 18,
   "metadata": {},
   "outputs": [
    {
     "name": "stdout",
     "output_type": "stream",
     "text": [
      "Array created using passed list \n",
      " [[1. 2. 4.]\n",
      " [5. 6. 7.]]\n"
     ]
    }
   ],
   "source": [
    "#creating array from list with type float\n",
    "a=np.array([[1,2,4],[5,6,7]], dtype='float')\n",
    "print(\"Array created using passed list \\n\",a)"
   ]
  },
  {
   "cell_type": "code",
   "execution_count": 19,
   "metadata": {},
   "outputs": [
    {
     "name": "stdout",
     "output_type": "stream",
     "text": [
      "Array created using passed tuples \n",
      " [1 2 4]\n"
     ]
    }
   ],
   "source": [
    "#creating array from tuple\n",
    "b=np.array((1,2,4))\n",
    "print(\"Array created using passed tuples \\n\",b)"
   ]
  },
  {
   "cell_type": "code",
   "execution_count": 20,
   "metadata": {},
   "outputs": [
    {
     "name": "stdout",
     "output_type": "stream",
     "text": [
      "Array created using passed tuple \n",
      " [[1. 2. 4.]\n",
      " [5. 6. 7.]]\n"
     ]
    }
   ],
   "source": [
    "#creating array from tuple with type float\n",
    "b1=np.array(((1,2,4),(5,6,7)), dtype='float')\n",
    "print(\"Array created using passed tuple \\n\",b1)"
   ]
  },
  {
   "cell_type": "code",
   "execution_count": 21,
   "metadata": {},
   "outputs": [],
   "source": [
    "c=np.zeros((3,4))          #null matrix"
   ]
  },
  {
   "cell_type": "code",
   "execution_count": 22,
   "metadata": {},
   "outputs": [
    {
     "data": {
      "text/plain": [
       "array([[0., 0., 0., 0.],\n",
       "       [0., 0., 0., 0.],\n",
       "       [0., 0., 0., 0.]])"
      ]
     },
     "execution_count": 22,
     "metadata": {},
     "output_type": "execute_result"
    }
   ],
   "source": [
    "c"
   ]
  },
  {
   "cell_type": "code",
   "execution_count": 23,
   "metadata": {},
   "outputs": [
    {
     "data": {
      "text/plain": [
       "array([[1., 1., 1., 1.],\n",
       "       [1., 1., 1., 1.],\n",
       "       [1., 1., 1., 1.]])"
      ]
     },
     "execution_count": 23,
     "metadata": {},
     "output_type": "execute_result"
    }
   ],
   "source": [
    "c1=np.ones((3,4))         # initialize with one\n",
    "c1               "
   ]
  },
  {
   "cell_type": "code",
   "execution_count": 24,
   "metadata": {},
   "outputs": [],
   "source": [
    "c2=np.eye(3)          #c2 create identity matrix diagonal 1 ,rest 0"
   ]
  },
  {
   "cell_type": "code",
   "execution_count": 25,
   "metadata": {},
   "outputs": [
    {
     "data": {
      "text/plain": [
       "array([[1., 0., 0.],\n",
       "       [0., 1., 0.],\n",
       "       [0., 0., 1.]])"
      ]
     },
     "execution_count": 25,
     "metadata": {},
     "output_type": "execute_result"
    }
   ],
   "source": [
    "c2"
   ]
  },
  {
   "cell_type": "code",
   "execution_count": 29,
   "metadata": {},
   "outputs": [
    {
     "ename": "SyntaxError",
     "evalue": "invalid syntax (<ipython-input-29-41b50f10c70f>, line 1)",
     "output_type": "error",
     "traceback": [
      "\u001b[1;36m  File \u001b[1;32m\"<ipython-input-29-41b50f10c70f>\"\u001b[1;36m, line \u001b[1;32m1\u001b[0m\n\u001b[1;33m    np.arange ?   #to see documentation np.<fun_name>? then press shift+enter\u001b[0m\n\u001b[1;37m              ^\u001b[0m\n\u001b[1;31mSyntaxError\u001b[0m\u001b[1;31m:\u001b[0m invalid syntax\n"
     ]
    }
   ],
   "source": [
    "np.arange ?   #to see documentation np.<fun_name>? then press shift+enter\n",
    "#arange return evenly spaced value within the interval"
   ]
  },
  {
   "cell_type": "code",
   "execution_count": 34,
   "metadata": {},
   "outputs": [
    {
     "ename": "SyntaxError",
     "evalue": "invalid syntax (<ipython-input-34-66df84668321>, line 1)",
     "output_type": "error",
     "traceback": [
      "\u001b[1;36m  File \u001b[1;32m\"<ipython-input-34-66df84668321>\"\u001b[1;36m, line \u001b[1;32m1\u001b[0m\n\u001b[1;33m    np.arange?\u001b[0m\n\u001b[1;37m             ^\u001b[0m\n\u001b[1;31mSyntaxError\u001b[0m\u001b[1;31m:\u001b[0m invalid syntax\n"
     ]
    }
   ],
   "source": [
    "np.arange?   #do not anything in comment toooooo"
   ]
  },
  {
   "cell_type": "code",
   "execution_count": 36,
   "metadata": {},
   "outputs": [],
   "source": [
    "np.arange?"
   ]
  },
  {
   "cell_type": "code",
   "execution_count": 37,
   "metadata": {},
   "outputs": [
    {
     "data": {
      "text/plain": [
       "array([ 0,  5, 10, 15, 20, 25])"
      ]
     },
     "execution_count": 37,
     "metadata": {},
     "output_type": "execute_result"
    }
   ],
   "source": [
    "np.arange(0,30,5)         # here 5 is step size"
   ]
  },
  {
   "cell_type": "code",
   "execution_count": 38,
   "metadata": {},
   "outputs": [
    {
     "data": {
      "text/plain": [
       "array([ 0., 10., 20.])"
      ]
     },
     "execution_count": 38,
     "metadata": {},
     "output_type": "execute_result"
    }
   ],
   "source": [
    "np.linspace(0,20,3)  # here 3 is number of values we want and they are equally spaced"
   ]
  },
  {
   "cell_type": "code",
   "execution_count": 41,
   "metadata": {},
   "outputs": [
    {
     "name": "stdout",
     "output_type": "stream",
     "text": [
      "random values:  [[0.24709648 0.60202398 0.99373327]\n",
      " [0.63662597 0.47292872 0.18487681]\n",
      " [0.24461273 0.51280876 0.60302618]]\n"
     ]
    }
   ],
   "source": [
    "e=np.random.random((3,3))\n",
    "print(\"random values: \",e)"
   ]
  },
  {
   "cell_type": "code",
   "execution_count": 42,
   "metadata": {},
   "outputs": [
    {
     "data": {
      "text/plain": [
       "array([[[1, 2, 3],\n",
       "        [4, 5, 6]],\n",
       "\n",
       "       [[7, 8, 9],\n",
       "        [2, 1, 6]]])"
      ]
     },
     "execution_count": 42,
     "metadata": {},
     "output_type": "execute_result"
    }
   ],
   "source": [
    "#reshape is very important function it will change the dimension\n",
    "arr=np.array([[1,2,3,4],\n",
    "             [5,6,7,8],\n",
    "             [9,2,1,6]])\n",
    "newarr=arr.reshape(2,2,3)\n",
    "newarr"
   ]
  },
  {
   "cell_type": "code",
   "execution_count": 43,
   "metadata": {},
   "outputs": [
    {
     "data": {
      "text/plain": [
       "array([[1, 2, 3],\n",
       "       [4, 5, 6],\n",
       "       [7, 8, 9],\n",
       "       [2, 1, 6]])"
      ]
     },
     "execution_count": 43,
     "metadata": {},
     "output_type": "execute_result"
    }
   ],
   "source": [
    "arr=np.array([[1,2,3,4],\n",
    "             [5,6,7,8],\n",
    "             [9,2,1,6]])\n",
    "newarr=arr.reshape(4,3)\n",
    "newarr"
   ]
  },
  {
   "cell_type": "code",
   "execution_count": 45,
   "metadata": {},
   "outputs": [
    {
     "name": "stdout",
     "output_type": "stream",
     "text": [
      "Flatten array is : [1 2 3 4 5 6 7 8 9 2 1 6]\n"
     ]
    }
   ],
   "source": [
    "arr=np.array([[1,2,3,4],\n",
    "             [5,6,7,8],\n",
    "             [9,2,1,6]])\n",
    "print(\"Flatten array is :\",arr.flatten())"
   ]
  },
  {
   "cell_type": "markdown",
   "metadata": {},
   "source": [
    "# array indexing"
   ]
  },
  {
   "cell_type": "code",
   "execution_count": 46,
   "metadata": {},
   "outputs": [
    {
     "data": {
      "text/plain": [
       "array([[5, 6, 7],\n",
       "       [9, 2, 1]])"
      ]
     },
     "execution_count": 46,
     "metadata": {},
     "output_type": "execute_result"
    }
   ],
   "source": [
    "arr=np.array([[1,2,3,4],\n",
    "             [5,6,7,8],\n",
    "             [9,2,1,6]])\n",
    "arr[1:,:3]      #see info from copy indexing in numpy"
   ]
  },
  {
   "cell_type": "code",
   "execution_count": 47,
   "metadata": {},
   "outputs": [
    {
     "data": {
      "text/plain": [
       "array([[5. , 6. , 7. ],\n",
       "       [9.4, 2. , 1. ]])"
      ]
     },
     "execution_count": 47,
     "metadata": {},
     "output_type": "execute_result"
    }
   ],
   "source": [
    "arr=np.array([[1,2.5,3,4],\n",
    "             [5,6,7,8],\n",
    "             [9.4,2,1,6]])\n",
    "arr[1:,:3] "
   ]
  },
  {
   "cell_type": "code",
   "execution_count": 9,
   "metadata": {},
   "outputs": [
    {
     "data": {
      "text/plain": [
       "array([[ 5. , -7. ],\n",
       "       [ 9.4,  1. ]])"
      ]
     },
     "execution_count": 9,
     "metadata": {},
     "output_type": "execute_result"
    }
   ],
   "source": [
    "arr=np.array([[1,2.5,3,4],\n",
    "             [5,6,-7,8],\n",
    "             [9.4,2,1,6]])\n",
    "arr[1:,:3:2] "
   ]
  },
  {
   "cell_type": "code",
   "execution_count": 10,
   "metadata": {},
   "outputs": [
    {
     "name": "stdout",
     "output_type": "stream",
     "text": [
      "\n",
      " Elements greater than 0 : \n",
      " [1.  2.5 3.  4.  5.  6.  8.  9.4 2.  1.  6. ]\n",
      "[[ True  True  True  True]\n",
      " [ True  True False  True]\n",
      " [ True  True  True  True]]\n"
     ]
    }
   ],
   "source": [
    "cond=arr>0    #known as conditional indexing\n",
    "temp=arr[cond]     \n",
    "print(\"\\n Elements greater than 0 : \\n\",temp)\n",
    "print(cond)        #boolean array according to the condition "
   ]
  },
  {
   "cell_type": "markdown",
   "metadata": {},
   "source": [
    "# Basic operations\n",
    "### we can use overloaded aritnmetic operators"
   ]
  },
  {
   "cell_type": "markdown",
   "metadata": {},
   "source": [
    "### also known as broadcating feature as it is replicating in whole array"
   ]
  },
  {
   "cell_type": "code",
   "execution_count": 14,
   "metadata": {},
   "outputs": [
    {
     "name": "stdout",
     "output_type": "stream",
     "text": [
      "[2 3 4 5]\n",
      "[-1  0  1  2]\n",
      "[-4  0  4  8]\n",
      "[16  0 16 64]\n"
     ]
    }
   ],
   "source": [
    "arr=np.array([1,2,3,4])\n",
    "#adding 1 to all\n",
    "arr+=1\n",
    "print(arr)\n",
    "# sub 3 to all\n",
    "arr-=3\n",
    "print(arr)\n",
    "# multiply to 4 to all\n",
    "arr*=4\n",
    "print(arr)\n",
    "# square of all\n",
    "print(arr**2)"
   ]
  },
  {
   "cell_type": "markdown",
   "metadata": {},
   "source": [
    "## Transpose of a array"
   ]
  },
  {
   "cell_type": "code",
   "execution_count": 15,
   "metadata": {},
   "outputs": [
    {
     "name": "stdout",
     "output_type": "stream",
     "text": [
      "Original array\n",
      " [[12  3  4  5]\n",
      " [ 6  7  8  9]\n",
      " [ 2 34 45  6]]\n",
      "Transpose of array is\n",
      " [[12  6  2]\n",
      " [ 3  7 34]\n",
      " [ 4  8 45]\n",
      " [ 5  9  6]]\n"
     ]
    }
   ],
   "source": [
    "a1=np.array([[12,3,4,5],[6,7,8,9],[2,34,45,6]])\n",
    "print(\"Original array\\n\",a1)\n",
    "print(\"Transpose of array is\\n\",a1.T)"
   ]
  },
  {
   "cell_type": "code",
   "execution_count": 22,
   "metadata": {},
   "outputs": [
    {
     "name": "stdout",
     "output_type": "stream",
     "text": [
      "maximum element of array : 45\n",
      "Column wise minimum elements  [2 3 4 5]\n",
      "Row wise minimum elements  [3 6 2]\n",
      "Sum of all elements of array :  141\n",
      "Cumulative sum along each row : [[12  3  4  5]\n",
      " [18 10 12 14]\n",
      " [20 44 57 20]]\n"
     ]
    }
   ],
   "source": [
    "print(\"maximum element of array :\",a1.max())\n",
    "print(\"Column wise minimum elements \",a1.min(axis=0))\n",
    "print(\"Row wise minimum elements \",a1.min(axis=1))\n",
    "print(\"Sum of all elements of array : \",a1.sum())\n",
    "print(\"Cumulative sum along each row :\",a1.cumsum(axis=0))"
   ]
  },
  {
   "cell_type": "markdown",
   "metadata": {},
   "source": [
    "# Binary operators and matrix"
   ]
  },
  {
   "cell_type": "code",
   "execution_count": 27,
   "metadata": {},
   "outputs": [
    {
     "name": "stdout",
     "output_type": "stream",
     "text": [
      "Array sum\n",
      "  [[ 3  8  7]\n",
      " [ 9 10 10]\n",
      " [ 5 14  8]]\n",
      "Array *element wise* multiplication :\n",
      "  [[ 2 15 12]\n",
      " [14 25 21]\n",
      " [ 6 49 16]]\n",
      "Matrix multiplication :\n",
      " [[31 48 28]\n",
      " [53 84 49]\n",
      " [63 78 46]]\n"
     ]
    }
   ],
   "source": [
    "a=np.array([[1,3,4],[2,5,7],[3,7,4]])\n",
    "b=np.array([[2,5,3],[7,5,3],[2,7,4]])\n",
    "print(\"Array sum\\n \",a+b)\n",
    "print(\"Array *element wise* multiplication :\\n \",a*b)\n",
    "print(\"Matrix multiplication :\\n\",a.dot(b))"
   ]
  },
  {
   "cell_type": "markdown",
   "metadata": {},
   "source": [
    "# Universal Functions : np.functionname(array)\n",
    "### sin, cos, exp"
   ]
  },
  {
   "cell_type": "code",
   "execution_count": 32,
   "metadata": {},
   "outputs": [
    {
     "name": "stdout",
     "output_type": "stream",
     "text": [
      "3.141592653589793\n",
      "Sine value of all :  [0.0000000e+00 1.0000000e+00 1.2246468e-16]\n",
      "Cosine value of all :  [ 1.000000e+00  6.123234e-17 -1.000000e+00]\n",
      "Tangent value of all :  [ 0.00000000e+00  1.63312394e+16 -1.22464680e-16]\n",
      "Exponent value of all  [ 1.          4.81047738 23.14069263]\n",
      "Square root of all  [0.         1.25331414 1.77245385]\n"
     ]
    }
   ],
   "source": [
    "print(np.pi)\n",
    "a=np.array([0,np.pi/2,np.pi])\n",
    "print(\"Sine value of all : \",np.sin(a))\n",
    "print(\"Cosine value of all : \",np.cos(a))\n",
    "print(\"Tangent value of all : \",np.tan(a))\n",
    "#   error -> print(\"Cosec value of all : \",np.cosec(a))\n",
    "print(\"Exponent value of all \",np.exp(a))\n",
    "print(\"Square root of all \",np.sqrt(a))"
   ]
  },
  {
   "cell_type": "markdown",
   "metadata": {},
   "source": [
    "# Sorting Array\n",
    "### np.sort( array , axis=0/1 ,kind= 'mergesort'/'quicksort'/...)"
   ]
  },
  {
   "cell_type": "code",
   "execution_count": 46,
   "metadata": {},
   "outputs": [
    {
     "name": "stdout",
     "output_type": "stream",
     "text": [
      "Element in sorted order is :\n",
      " [[ 2  3  6]\n",
      " [ 2 54 76]\n",
      " [ 0  3  8]]\n",
      "All element in sorted order  in one line is :\n",
      " [ 0  2  2  3  3  6  8 54 76]\n",
      "All element in sorted order  in one line is :\n",
      " [ 0  2  2  3  3  6  8 54 76]\n",
      "All element in sorted order  in one line is :\n",
      " [ 0  2  2  3  3  6  8 54 76]\n",
      "Row wise sorted order is :\n",
      " [[ 2  3  6]\n",
      " [ 2 54 76]\n",
      " [ 0  3  8]]\n",
      "Column wise sorted order is :\n",
      " [[ 2  6  0]\n",
      " [ 3  8  2]\n",
      " [54 76  3]]\n"
     ]
    }
   ],
   "source": [
    "a=np.array([[2,6,3],[54,76,2],[3,8,0]])\n",
    "print(\"Element in sorted order is :\\n\",np.sort(a))        #get row wise sorted bydefault axis=1\n",
    "print(\"All element in sorted order  in one line is :\\n\",np.sort(a, axis=None ,kind='quicksort'))\n",
    "print(\"All element in sorted order  in one line is :\\n\",np.sort(a, axis=None ,kind='mergesort'))\n",
    "print(\"All element in sorted order  in one line is :\\n\",np.sort(a, axis=None ,kind='heapsort'))\n",
    "# error-> print(\"All element in sorted order  in one line is :\\n\",np.sort(a, axis=None ,kind='bubblesort'))\n",
    "print(\"Row wise sorted order is :\\n\",np.sort(a, axis=1))\n",
    "print(\"Column wise sorted order is :\\n\",np.sort(a, axis=0))"
   ]
  },
  {
   "cell_type": "markdown",
   "metadata": {},
   "source": [
    "# sorting of structured array\n",
    "## np.sort(array, order= 'on the basis of','on the basis of')"
   ]
  },
  {
   "cell_type": "code",
   "execution_count": 7,
   "metadata": {},
   "outputs": [
    {
     "name": "stdout",
     "output_type": "stream",
     "text": [
      "[(b'A', 2021, 8.7) (b'A', 2021, 8.9) (b'A', 2022, 7. ) (b'A', 2022, 8. )]\n",
      "Array sorted by names :\n",
      " [(b'A', 2021, 8.7) (b'A', 2021, 8.9) (b'A', 2022, 7. ) (b'A', 2022, 8. )]\n",
      "Array sorted by graduation year and then cgpa : \n",
      " [(b'A', 2021, 8.7) (b'A', 2021, 8.9) (b'A', 2022, 7. ) (b'A', 2022, 8. )]\n"
     ]
    }
   ],
   "source": [
    "# seting alias name for dtype\n",
    "dtypes=[('name','S10'),('grad_year',int),('cgpa',float)]\n",
    "#values to be put in array\n",
    "values=[('Apoorva',2021,8.90),('Anushka',2021,8.7),('Aarohika',2022,8),('Avint',2022,7)]\n",
    "#creating array\n",
    "arr=np.array(values,dtype=dtypes)\n",
    "print(np.sort(arr))\n",
    "print(\"Array sorted by names :\\n\",np.sort(arr, order='name'))\n",
    "print(\"Array sorted by graduation year and then cgpa : \\n\",np.sort(arr,order=['grad_year','cgpa']))"
   ]
  },
  {
   "cell_type": "markdown",
   "metadata": {},
   "source": [
    "# Stacking and Splitting\n",
    "\n",
    "## several arrays can be stacked together along different axes.\n",
    "\n",
    "### *np.vstack((a,b)) : To stack arrays along vertical axis.\n",
    "### *np.hstack : To stack arrays along horizontal axis.\n",
    "### *np.column_stack : To stack 1-D arrays as columns into 2-D arrays.\n",
    "### *np.concatenate : To stack arrays along specified axis(axis is passed as argument)."
   ]
  },
  {
   "cell_type": "code",
   "execution_count": 13,
   "metadata": {},
   "outputs": [
    {
     "name": "stdout",
     "output_type": "stream",
     "text": [
      "Vertical Stacking :\n",
      " [[2 3]\n",
      " [4 5]\n",
      " [8 2]\n",
      " [5 1]]\n",
      "Horizontal Stacking :\n",
      " [[2 3 8 2]\n",
      " [4 5 5 1]]\n",
      "Column Stacking :\n",
      " [[2 3 9]\n",
      " [4 5 8]]\n",
      "concatenating to 2nd axis : [[2 3 8 2]\n",
      " [4 5 5 1]]\n",
      "concatenating to 1nd axis : [[2 3]\n",
      " [4 5]\n",
      " [8 2]\n",
      " [5 1]]\n"
     ]
    }
   ],
   "source": [
    "a=np.array([[2,3],[4,5]])\n",
    "b=np.array([[8,2],[5,1]])\n",
    "print(\"Vertical Stacking :\\n\",np.vstack((a,b)))\n",
    "print(\"Horizontal Stacking :\\n\",np.hstack((a,b)))\n",
    "c=[9,8]\n",
    "print(\"Column Stacking :\\n\",np.column_stack((a,c)))\n",
    "print(\"concatenating to 2nd axis :\",np.concatenate((a,b),1))\n",
    "print(\"concatenating to 1nd axis :\",np.concatenate((a,b),0))"
   ]
  },
  {
   "cell_type": "markdown",
   "metadata": {},
   "source": [
    "# Splitting functions\n",
    "##  **np.hsplit - split array along horizontal axis\n",
    "##  **np.vsplit - split array along vertical axis\n",
    "##  **np.array_split - split array along specified axis"
   ]
  },
  {
   "cell_type": "code",
   "execution_count": 25,
   "metadata": {},
   "outputs": [
    {
     "name": "stdout",
     "output_type": "stream",
     "text": [
      "Splitting along horizontal axis into 2parts : \n",
      " [array([[ 1,  3,  5],\n",
      "       [91, 32,  5]]), array([[6, 7, 8],\n",
      "       [2, 6, 9]])]\n",
      "Splitting along vertical axis into 2parts : \n",
      " [array([[1, 3, 5, 6, 7, 8]]), array([[91, 32,  5,  2,  6,  9]])]\n",
      "Splitting along specified axis into 2parts : \n",
      " [array([[1, 3, 5, 6, 7, 8]]), array([[91, 32,  5,  2,  6,  9]])]\n"
     ]
    }
   ],
   "source": [
    "a=np.array([[1,3,5,6,7,8],[91,32,5,2,6,9]])\n",
    "print(\"Splitting along horizontal axis into 2parts : \\n\",np.hsplit(a,2))\n",
    "print(\"Splitting along vertical axis into 2parts : \\n\",np.vsplit(a,2))\n",
    "print(\"Splitting along specified axis into 2parts : \\n\",np.array_split(a,2,axis=0))"
   ]
  },
  {
   "cell_type": "markdown",
   "metadata": {},
   "source": [
    "# Statics numpy functions\n",
    "**min,max\n",
    "\n",
    "**mean\n",
    "\n",
    "**median\n",
    "\n",
    "**average\n",
    "\n",
    "**variance\n",
    "\n",
    "**standard deviation"
   ]
  },
  {
   "cell_type": "code",
   "execution_count": 29,
   "metadata": {},
   "outputs": [
    {
     "name": "stdout",
     "output_type": "stream",
     "text": [
      "Minimum  1\n",
      "Minimum elements in all column  [1 2]\n",
      "Minimum elements in all row  [1 3 5 2 6 8]\n",
      "\n",
      "Mean  14.583333333333334\n",
      "Mean elements in all column  [ 5.         24.16666667]\n",
      "Mean elements in all row  [46.  17.5  5.   4.   6.5  8.5]\n"
     ]
    }
   ],
   "source": [
    "a=np.array([[1,3,5,6,7,8],[91,32,5,2,6,9]])\n",
    "print(\"Minimum \",np.min(a))\n",
    "print(\"Minimum elements in all column \",np.min(a,axis=1))\n",
    "print(\"Minimum elements in all row \",np.min(a,axis=0))\n",
    "\n",
    "#mean\n",
    "print(\"\\nMean \",np.mean(a))\n",
    "print(\"Mean elements in all column \",np.mean(a,axis=1))\n",
    "print(\"Mean elements in all row \",np.mean(a,axis=0))"
   ]
  },
  {
   "cell_type": "code",
   "execution_count": 5,
   "metadata": {},
   "outputs": [
    {
     "name": "stdout",
     "output_type": "stream",
     "text": [
      "Median is : 3.0\n",
      "Mean is : 3.6\n",
      "Weighted mean is : 2.8\n",
      "Standard deviation is : 2.4166091947189146\n",
      "Standard deviation is : 2.4166091947189146\n",
      "Variance is :  5.840000000000001\n"
     ]
    }
   ],
   "source": [
    "arr=np.array([1,2,4,8,3])\n",
    "\n",
    "#Mean ,Median\n",
    "print(\"Median is :\",np.median(arr))\n",
    "print(\"Mean is :\",np.mean(arr))\n",
    "\n",
    "#Weighted mean=(n1*w1+n2*w2)/(n1+n2)\n",
    "#weights\n",
    "w=np.array([1,1,2,0,1])\n",
    "print(\"Weighted mean is :\",np.average(arr,weights=w))\n",
    "\n",
    "#Standard Deviation\n",
    "u=np.mean(arr)\n",
    "std_dev=np.sqrt(np.mean(abs(arr-u)**2))\n",
    "print(\"Standard deviation is :\",std_dev)\n",
    "\n",
    "#Inbuilt Function for standard deviation is : std\n",
    "dev=np.std(arr)\n",
    "print(\"Standard deviation is :\",dev)\n",
    "\n",
    "# Variance\n",
    "var=std_dev**2\n",
    "print(\"Variance is : \",var)"
   ]
  },
  {
   "cell_type": "markdown",
   "metadata": {},
   "source": [
    "# Numpy Random Module\n",
    "### rand: random values in  given shape\n",
    "### randn: return a sample(or samples) from the \"standard normal\" distribution\n",
    "### randint: return random integer from low(inclusive) to high(exclusive)\n",
    "### random: return random floats in half interval(0.0,1.0)\n",
    "### choice: generate a random sample arrary from a given 1-D array\n",
    "### Shuffle : shuffles the contents of a sequence"
   ]
  },
  {
   "cell_type": "code",
   "execution_count": 15,
   "metadata": {},
   "outputs": [
    {
     "name": "stdout",
     "output_type": "stream",
     "text": [
      "Array is : [ 5  6  7  8  9 10 11 12 13 14]\n",
      "Shuffled array is : [13  5 10 14  7  8 12  6  9 11]\n",
      "Sandard Normal distribution is : [[-0.20592494 -0.90642348  2.89306998]\n",
      " [ 0.752149    1.46752868  0.55966275]]\n",
      "4 random integer numbers from 2 to 17 : [ 9 13 10  3]\n",
      "@ random float values are : [0.05022883 0.61622893]\n",
      "Pick any random element from array : 3\n"
     ]
    }
   ],
   "source": [
    "a=np.arange(10)+5\n",
    "print(\"Array is :\",a)\n",
    "np.random.seed(a)\n",
    "np.random.shuffle(a)\n",
    "print(\"Shuffled array is :\",a)\n",
    "print(\"Sandard Normal distribution is :\",np.random.randn(2,3))\n",
    "print(\"4 random integer numbers from 2 to 17 :\",np.random.randint(2,17,4))\n",
    "print(\"@ random float values are :\",np.random.random(2))\n",
    "print(\"Pick any random element from array :\",np.random.choice([2,5,3,1,7,8]))"
   ]
  },
  {
   "cell_type": "code",
   "execution_count": null,
   "metadata": {},
   "outputs": [],
   "source": []
  }
 ],
 "metadata": {
  "kernelspec": {
   "display_name": "Python 3",
   "language": "python",
   "name": "python3"
  },
  "language_info": {
   "codemirror_mode": {
    "name": "ipython",
    "version": 3
   },
   "file_extension": ".py",
   "mimetype": "text/x-python",
   "name": "python",
   "nbconvert_exporter": "python",
   "pygments_lexer": "ipython3",
   "version": "3.8.5"
  }
 },
 "nbformat": 4,
 "nbformat_minor": 4
}
