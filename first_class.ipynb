{
 "cells": [
  {
   "cell_type": "code",
   "execution_count": 1,
   "metadata": {},
   "outputs": [
    {
     "data": {
      "text/plain": [
       "9"
      ]
     },
     "execution_count": 1,
     "metadata": {},
     "output_type": "execute_result"
    }
   ],
   "source": [
    "4+5"
   ]
  },
  {
   "cell_type": "code",
   "execution_count": 2,
   "metadata": {},
   "outputs": [
    {
     "name": "stdout",
     "output_type": "stream",
     "text": [
      "not eligible to vote\n"
     ]
    }
   ],
   "source": [
    "age=16\n",
    "if age<18:\n",
    "    print(\"not eligible to vote\")\n",
    "else:\n",
    "    print(\"Eligible to vote\")"
   ]
  },
  {
   "cell_type": "markdown",
   "metadata": {},
   "source": [
    "# This is my first line of tutorial\n",
    "## This is my second line\n",
    "### this is 3rd line"
   ]
  },
  {
   "cell_type": "markdown",
   "metadata": {},
   "source": [
    "# Grade Calculation\n",
    "Less than 40%-LC\n",
    "Fromerfgthyjmk"
   ]
  },
  {
   "cell_type": "code",
   "execution_count": 6,
   "metadata": {},
   "outputs": [
    {
     "name": "stdout",
     "output_type": "stream",
     "text": [
      "Enter percentage :48\n",
      "Grade -D\n"
     ]
    }
   ],
   "source": [
    "per=int(input(\"Enter percentage :\"))\n",
    "if per<40:\n",
    "    print(\"NC\")\n",
    "elif per>=40 & per<50:\n",
    "    print(\"Grade -D\")"
   ]
  },
  {
   "cell_type": "code",
   "execution_count": 7,
   "metadata": {},
   "outputs": [
    {
     "name": "stdout",
     "output_type": "stream",
     "text": [
      "Enter a no :49\n",
      "Divisible by 7\n"
     ]
    }
   ],
   "source": [
    "no=int(input(\"Enter a no :\"))\n",
    "if no%7==0:\n",
    "    print(\"Divisible by 7\")\n",
    "else:\n",
    "    print(\"Not divisible\")"
   ]
  },
  {
   "cell_type": "code",
   "execution_count": 8,
   "metadata": {},
   "outputs": [
    {
     "name": "stdout",
     "output_type": "stream",
     "text": [
      "Enter a no :6\n",
      "Even\n"
     ]
    }
   ],
   "source": [
    "no=int(input(\"Enter a no :\"))\n",
    "if no%2==0:\n",
    "    print(\"Even\")\n",
    "else:\n",
    "    print(\"Odd\")"
   ]
  },
  {
   "cell_type": "code",
   "execution_count": 12,
   "metadata": {},
   "outputs": [
    {
     "name": "stdout",
     "output_type": "stream",
     "text": [
      "Enter unit consumed :520\n",
      "Total cost is :  208.0\n"
     ]
    }
   ],
   "source": [
    "n=float(input(\"Enter unit consumed :\"))\n",
    "if n<500:\n",
    "    cost=0.2*n\n",
    "elif n<1000 and n>=500.0:\n",
    "    cost=0.4*n\n",
    "elif n<1500 and n>=1000:\n",
    "    cost=0.6*n\n",
    "elif n<2000 and n>=1500:\n",
    "    cost=1.5*n\n",
    "else:\n",
    "    cost=2.5*n\n",
    "print(\"Total cost is : \",cost)"
   ]
  },
  {
   "cell_type": "code",
   "execution_count": 1,
   "metadata": {},
   "outputs": [
    {
     "ename": "SyntaxError",
     "evalue": "invalid syntax (<ipython-input-1-ebdf80a866d3>, line 4)",
     "output_type": "error",
     "traceback": [
      "\u001b[1;36m  File \u001b[1;32m\"<ipython-input-1-ebdf80a866d3>\"\u001b[1;36m, line \u001b[1;32m4\u001b[0m\n\u001b[1;33m    i++\u001b[0m\n\u001b[1;37m       ^\u001b[0m\n\u001b[1;31mSyntaxError\u001b[0m\u001b[1;31m:\u001b[0m invalid syntax\n"
     ]
    }
   ],
   "source": [
    "i=0\n",
    "while i<10:\n",
    "    print(i)\n",
    "    i++\n",
    "print(\"bye\")"
   ]
  },
  {
   "cell_type": "code",
   "execution_count": 2,
   "metadata": {},
   "outputs": [
    {
     "name": "stdout",
     "output_type": "stream",
     "text": [
      "0\n",
      "1\n",
      "2\n",
      "3\n",
      "4\n",
      "5\n",
      "6\n",
      "7\n",
      "8\n",
      "9\n",
      "bye\n"
     ]
    }
   ],
   "source": [
    "i=0\n",
    "while i<10:\n",
    "    print(i)\n",
    "    i+=1\n",
    "print(\"bye\")"
   ]
  },
  {
   "cell_type": "code",
   "execution_count": 3,
   "metadata": {},
   "outputs": [
    {
     "name": "stdout",
     "output_type": "stream",
     "text": [
      "Enter the number6\n",
      "0\n",
      "2\n",
      "4\n",
      "6\n"
     ]
    }
   ],
   "source": [
    "n=int(input(\"Enter the number\"))\n",
    "for i in range(n+1):\n",
    "    if(i%2)==0:\n",
    "        print(i)"
   ]
  },
  {
   "cell_type": "code",
   "execution_count": null,
   "metadata": {},
   "outputs": [],
   "source": [
    "n=int(input(\"Enter the number\"))\n",
    "flag=0\n",
    "for i in range(2,n):\n",
    "    if (i%n)==0:\n",
    "        flag=1\n",
    "        break;\n",
    "if flag==0:\n",
    "    print(n,\" is a prime no.\")\n",
    "else :\n",
    "    print(n,\" is not a prime\")\n",
    "        "
   ]
  },
  {
   "cell_type": "code",
   "execution_count": null,
   "metadata": {},
   "outputs": [],
   "source": [
    "n=int(input(\"Enter the number\"))\n",
    "flag=0\n",
    "for i in range(2,n):\n",
    "    if (i%n)==0:\n",
    "        flag=1\n",
    "        break;\n",
    "if flag==0:\n",
    "    print(n,\" is a prime no.\")\n",
    "else :\n",
    "    print(n,\" is not a prime\")\n",
    "        "
   ]
  },
  {
   "cell_type": "code",
   "execution_count": null,
   "metadata": {},
   "outputs": [],
   "source": []
  }
 ],
 "metadata": {
  "kernelspec": {
   "display_name": "Python 3",
   "language": "python",
   "name": "python3"
  },
  "language_info": {
   "codemirror_mode": {
    "name": "ipython",
    "version": 3
   },
   "file_extension": ".py",
   "mimetype": "text/x-python",
   "name": "python",
   "nbconvert_exporter": "python",
   "pygments_lexer": "ipython3",
   "version": "3.8.5"
  }
 },
 "nbformat": 4,
 "nbformat_minor": 4
}
